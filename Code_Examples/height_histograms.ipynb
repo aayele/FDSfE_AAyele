{
  "nbformat": 4,
  "nbformat_minor": 0,
  "metadata": {
    "colab": {
      "provenance": [],
      "include_colab_link": true
    },
    "kernelspec": {
      "name": "python3",
      "display_name": "Python 3"
    },
    "language_info": {
      "name": "python"
    }
  },
  "cells": [
    {
      "cell_type": "markdown",
      "metadata": {
        "id": "view-in-github",
        "colab_type": "text"
      },
      "source": [
        "<a href=\"https://colab.research.google.com/github/aayele/FDSfE_AAyele/blob/main/Code_Examples/height_histograms.ipynb\" target=\"_parent\"><img src=\"https://colab.research.google.com/assets/colab-badge.svg\" alt=\"Open In Colab\"/></a>"
      ]
    },
    {
      "cell_type": "code",
      "source": [
        "import numpy as np # so I can do more things with number collections than I could with lists\n",
        "import pylab as plt"
      ],
      "metadata": {
        "id": "m5TH-rgF7yqA"
      },
      "execution_count": null,
      "outputs": []
    },
    {
      "cell_type": "code",
      "execution_count": null,
      "metadata": {
        "id": "lWlednuC5Kea"
      },
      "outputs": [],
      "source": [
        "heightlist = [65.78, 71.52, 69.40, 68.22, 67.79] #inches"
      ]
    },
    {
      "cell_type": "code",
      "source": [
        "# http://wiki.stat.ucla.edu/socr/index.php/SOCR_Data_Dinov_020108_HeightsWeights\n",
        "# The dataset below contains 25,000 synthetic records of human heights and weights of 18 years old children."
      ],
      "metadata": {
        "id": "Y--P56jbDQYC"
      },
      "execution_count": null,
      "outputs": []
    },
    {
      "cell_type": "code",
      "source": [
        "heightlist = np.array(heightlist)"
      ],
      "metadata": {
        "id": "xbzCxpiT7wm4"
      },
      "execution_count": null,
      "outputs": []
    },
    {
      "cell_type": "code",
      "source": [
        "import pandas as pd"
      ],
      "metadata": {
        "id": "tI_q4pbUDySC"
      },
      "execution_count": null,
      "outputs": []
    },
    {
      "cell_type": "code",
      "source": [
        "height = pd.read_csv(\"https://raw.githubusercontent.com/fedhere/FDSFE_FBianco/main/data/height.csv\")"
      ],
      "metadata": {
        "id": "QuSLEDQID3vL"
      },
      "execution_count": null,
      "outputs": []
    },
    {
      "cell_type": "code",
      "source": [
        "height.shape"
      ],
      "metadata": {
        "colab": {
          "base_uri": "https://localhost:8080/"
        },
        "id": "e2sxQz3TbLha",
        "outputId": "1f6d8d2a-eaa8-43d0-80ed-08265eacb24e"
      },
      "execution_count": null,
      "outputs": [
        {
          "output_type": "execute_result",
          "data": {
            "text/plain": [
              "(1000, 1)"
            ]
          },
          "metadata": {},
          "execution_count": 47
        }
      ]
    },
    {
      "cell_type": "code",
      "source": [
        "height[\"Height(Inches)\"].values"
      ],
      "metadata": {
        "colab": {
          "base_uri": "https://localhost:8080/"
        },
        "id": "BNBKbaFTGXry",
        "outputId": "2e253ddd-3198-4de1-d115-ab60382b0498"
      },
      "execution_count": null,
      "outputs": [
        {
          "output_type": "execute_result",
          "data": {
            "text/plain": [
              "array([65.78331, 71.51521, 69.39874, 68.2166 , 67.78781, 68.69784,\n",
              "       69.80204, 70.01472, 67.90265, 66.78236, 66.48769, 67.62333,\n",
              "       68.30248, 67.11656, 68.27967, 71.0916 , 66.461  , 68.64927,\n",
              "       71.23033, 67.13118, 67.83379, 68.87881, 63.48115, 68.42187,\n",
              "       67.62804, 67.20864, 70.84235, 67.49434, 66.53401, 65.44098,\n",
              "       69.5233 , 65.8132 , 67.8163 , 70.59505, 71.80484, 69.20613,\n",
              "       66.80368, 67.65893, 67.80701, 64.04535, 68.57463, 65.18357,\n",
              "       69.65814, 67.96731, 65.98088, 68.67249, 66.88088, 67.69868,\n",
              "       69.82117, 69.08817, 69.91479, 67.33182, 70.26939, 69.10344,\n",
              "       65.38356, 70.18447, 70.40617, 66.54376, 66.36418, 67.537  ,\n",
              "       66.50418, 68.99958, 68.30355, 67.01255, 70.80592, 68.21951,\n",
              "       69.05914, 67.73103, 67.21568, 67.36763, 65.27033, 70.84278,\n",
              "       69.92442, 64.28508, 68.2452 , 66.35708, 68.36275, 65.4769 ,\n",
              "       69.71947, 67.72554, 68.63941, 66.78405, 70.05147, 66.27848,\n",
              "       69.20198, 69.13481, 67.36436, 70.09297, 70.1766 , 68.22556,\n",
              "       68.12932, 70.24256, 71.48752, 69.20477, 70.06306, 70.55703,\n",
              "       66.28644, 63.42577, 66.76711, 68.88741, 64.87434, 67.09272,\n",
              "       68.34761, 65.61073, 67.75551, 68.0212 , 67.66193, 66.3146 ,\n",
              "       69.43706, 63.83624, 67.72277, 70.05098, 70.18602, 65.94588,\n",
              "       70.007  , 68.61129, 68.80817, 69.76212, 65.45539, 68.82534,\n",
              "       65.8003 , 67.21474, 69.42021, 68.94396, 67.9415 , 65.62506,\n",
              "       66.49607, 67.92809, 68.89415, 70.241  , 68.26623, 71.23161,\n",
              "       69.09747, 64.39693, 71.09585, 68.21868, 65.91721, 67.4369 ,\n",
              "       73.90107, 69.98149, 69.51862, 65.18437, 68.00869, 68.3384 ,\n",
              "       65.18417, 68.26209, 68.56865, 64.49675, 68.71053, 68.89148,\n",
              "       69.54011, 67.39964, 66.47521, 66.01217, 72.44434, 64.12642,\n",
              "       70.98112, 67.50124, 72.01515, 65.31143, 67.07509, 64.39148,\n",
              "       69.37003, 68.37921, 65.31018, 67.1369 , 68.39468, 66.2918 ,\n",
              "       67.1866 , 65.99156, 69.43393, 67.97463, 67.76133, 65.27864,\n",
              "       73.83364, 66.81312, 66.89411, 65.73568, 65.98283, 66.58396,\n",
              "       67.11294, 65.87481, 66.78067, 68.73577, 66.22666, 65.95968,\n",
              "       68.58372, 66.59347, 66.96574, 68.08015, 70.19025, 65.52149,\n",
              "       67.45905, 67.40985, 69.66158, 65.79799, 66.10558, 68.23987,\n",
              "       68.02403, 71.39044, 65.7316 , 66.43358, 70.01309, 69.48146,\n",
              "       68.62764, 68.36275, 68.39028, 68.77413, 69.9236 , 71.55542,\n",
              "       68.44764, 66.71398, 66.68413, 67.93699, 68.89855, 67.29191,\n",
              "       69.57212, 67.67479, 69.04155, 67.96765, 65.83982, 65.77288,\n",
              "       71.14106, 67.83055, 65.0693 , 69.70745, 69.92983, 66.11569,\n",
              "       68.61364, 68.9976 , 66.79171, 68.02363, 69.67258, 71.82178,\n",
              "       72.74676, 67.27951, 67.41015, 68.5315 , 68.47126, 68.51867,\n",
              "       63.72529, 67.70483, 69.47115, 66.70198, 65.23126, 69.89473,\n",
              "       69.83048, 65.3979 , 68.32214, 65.93895, 70.09805, 66.05531,\n",
              "       68.23481, 65.21758, 69.16173, 67.60064, 67.28621, 66.84323,\n",
              "       68.08281, 66.56991, 70.16973, 67.85113, 66.62309, 63.68816,\n",
              "       68.0356 , 66.941  , 66.26292, 70.7301 , 70.70844, 73.26872,\n",
              "       63.79021, 67.84109, 67.78058, 67.23901, 66.75701, 69.03098,\n",
              "       68.52652, 64.65419, 65.14295, 66.74124, 66.99923, 70.26611,\n",
              "       67.57666, 66.30582, 68.90702, 65.60543, 68.00189, 69.93715,\n",
              "       70.1459 , 66.66364, 69.40676, 66.80598, 67.70048, 69.13438,\n",
              "       67.53769, 65.77912, 66.25769, 67.39038, 64.94327, 69.25699,\n",
              "       69.07739, 69.64403, 69.07705, 68.01304, 68.85664, 63.19158,\n",
              "       65.57591, 69.12101, 69.78765, 67.48203, 69.08809, 68.5529 ,\n",
              "       68.21327, 67.1012 , 71.23661, 69.11946, 65.49848, 66.58706,\n",
              "       67.99831, 72.57747, 67.97585, 66.62347, 67.29574, 65.95951,\n",
              "       66.54011, 68.07723, 65.83291, 69.23721, 64.69413, 69.21372,\n",
              "       67.16792, 67.8467 , 69.27389, 67.90547, 67.076  , 70.01531,\n",
              "       70.05454, 70.86714, 66.0586 , 65.23745, 68.7413 , 69.51946,\n",
              "       70.30764, 67.29982, 67.60582, 67.85566, 66.46536, 68.92071,\n",
              "       68.46886, 69.5193 , 70.23956, 67.85651, 68.00435, 67.13983,\n",
              "       68.09931, 68.99077, 69.32618, 70.09286, 68.74304, 64.18633,\n",
              "       66.09074, 69.24418, 69.66512, 68.42721, 68.28613, 69.37684,\n",
              "       68.35315, 72.32489, 70.37159, 65.72927, 66.49627, 70.81339,\n",
              "       67.37579, 67.79709, 68.1607 , 68.85782, 67.71342, 64.66007,\n",
              "       65.73721, 68.42441, 68.88946, 68.27367, 69.18045, 72.60996,\n",
              "       66.04157, 69.2288 , 68.87697, 66.46042, 69.30444, 67.58249,\n",
              "       69.41816, 67.46867, 66.44873, 68.76185, 63.76881, 69.03663,\n",
              "       66.48966, 66.74224, 67.69394, 66.69066, 67.02877, 65.91096,\n",
              "       70.0304 , 69.26978, 70.07695, 64.90942, 69.68744, 67.56524,\n",
              "       63.85529, 71.6189 , 64.98993, 64.60759, 62.01666, 65.28516,\n",
              "       67.70163, 70.85794, 68.17075, 67.45006, 71.04224, 67.83032,\n",
              "       67.15488, 68.30289, 65.41208, 68.66755, 70.06733, 69.13413,\n",
              "       67.02078, 65.52274, 70.19808, 67.66866, 69.73257, 67.61719,\n",
              "       70.79589, 69.65804, 66.73277, 67.58008, 65.25317, 70.71387,\n",
              "       71.27374, 66.55913, 68.04247, 68.11699, 71.2367 , 66.92387,\n",
              "       71.10381, 69.41466, 69.16807, 68.57725, 69.60315, 69.05087,\n",
              "       68.28699, 69.25276, 68.23862, 67.6868 , 68.84083, 69.52061,\n",
              "       66.97668, 72.0053 , 67.44482, 66.06214, 65.5747 , 68.30171,\n",
              "       71.02603, 70.76882, 67.50812, 69.50936, 66.4455 , 68.5689 ,\n",
              "       67.01296, 68.70004, 68.23013, 70.40713, 65.69989, 65.7031 ,\n",
              "       68.48055, 66.62891, 66.84285, 69.89734, 67.6543 , 68.30917,\n",
              "       69.74848, 68.57906, 68.14477, 67.98093, 64.82535, 69.20785,\n",
              "       69.2656 , 70.9403 , 69.07826, 66.20183, 71.05779, 68.99493,\n",
              "       70.96089, 66.02496, 69.8641 , 66.82802, 69.09424, 66.81425,\n",
              "       67.13183, 64.57428, 68.68038, 67.53724, 71.17732, 70.53514,\n",
              "       71.53411, 66.77301, 66.33636, 64.83095, 68.38247, 68.05038,\n",
              "       69.09149, 69.91046, 68.40737, 68.32559, 66.95555, 70.54816,\n",
              "       69.37805, 67.52012, 64.87142, 69.13396, 68.81192, 67.56446,\n",
              "       68.16772, 65.80687, 64.92276, 68.35584, 66.71546, 69.18196,\n",
              "       65.88795, 66.03733, 69.44194, 67.14847, 65.69442, 69.42723,\n",
              "       66.54503, 69.04469, 67.62036, 69.59105, 68.12343, 71.22641,\n",
              "       66.43285, 66.31808, 68.02724, 68.2876 , 66.91609, 71.77546,\n",
              "       66.04535, 69.01455, 68.70744, 65.012  , 66.05857, 71.16403,\n",
              "       67.55274, 68.83455, 68.11811, 67.90528, 67.64085, 69.78282,\n",
              "       67.99889, 69.41465, 70.42989, 67.67519, 67.88036, 68.06905,\n",
              "       66.99435, 71.57689, 64.36564, 67.93011, 69.91863, 69.93864,\n",
              "       66.79766, 70.11119, 68.94814, 68.02886, 69.36148, 68.44886,\n",
              "       65.70282, 69.55674, 65.84635, 68.79983, 69.03835, 67.36352,\n",
              "       70.35788, 69.88828, 65.15319, 69.40907, 68.50874, 65.71552,\n",
              "       63.98308, 70.07685, 68.42542, 68.23665, 67.82856, 66.31277,\n",
              "       69.75128, 65.70901, 66.88227, 67.2791 , 70.63357, 69.9377 ,\n",
              "       65.87671, 72.44694, 70.07052, 67.68486, 66.1151 , 69.94355,\n",
              "       68.24317, 68.80144, 66.61818, 70.18701, 65.58971, 68.69566,\n",
              "       64.88639, 69.81993, 66.33962, 70.4434 , 69.99163, 70.13617,\n",
              "       67.1793 , 68.2034 , 67.76121, 64.79753, 66.47871, 66.98337,\n",
              "       65.69991, 66.82705, 66.35141, 70.13491, 70.11565, 64.56145,\n",
              "       68.15724, 67.1475 , 70.88927, 68.16218, 71.19657, 67.92444,\n",
              "       65.30204, 66.40756, 71.30647, 69.05997, 65.95442, 69.63776,\n",
              "       71.10495, 66.21851, 66.13469, 67.7851 , 66.67737, 69.99408,\n",
              "       71.1441 , 68.63927, 69.08548, 67.97389, 65.94809, 66.02102,\n",
              "       71.23576, 67.52674, 71.06935, 68.27178, 67.31932, 68.98848,\n",
              "       68.404  , 67.092  , 66.76866, 65.64636, 65.34105, 68.18299,\n",
              "       70.65924, 65.94401, 69.62792, 68.29965, 70.06075, 68.43602,\n",
              "       69.27012, 67.70511, 70.89315, 70.54313, 71.58086, 68.42301,\n",
              "       69.35781, 70.445  , 67.38153, 67.50767, 68.52054, 66.80858,\n",
              "       72.38532, 68.51642, 70.79791, 66.21905, 68.31167, 67.1715 ,\n",
              "       67.7714 , 67.47328, 67.77463, 69.20099, 70.04297, 70.56979,\n",
              "       66.45379, 67.68132, 65.75638, 69.3549 , 70.5902 , 67.27626,\n",
              "       68.48853, 67.02188, 65.77613, 65.96579, 68.18868, 72.08595,\n",
              "       66.85358, 69.10929, 64.5909 , 67.03849, 68.99156, 70.59872,\n",
              "       70.08988, 65.6844 , 67.0982 , 66.03932, 69.26423, 66.61351,\n",
              "       68.11738, 69.73059, 64.02042, 66.23753, 72.46761, 66.21938,\n",
              "       71.2978 , 63.1255 , 70.93034, 68.25489, 64.78014, 65.42982,\n",
              "       68.91361, 64.96937, 66.15237, 65.98386, 69.2435 , 68.31982,\n",
              "       70.11607, 68.63521, 67.74289, 64.58641, 64.66165, 65.90771,\n",
              "       65.77649, 67.1506 , 72.24339, 68.73199, 67.57019, 70.36234,\n",
              "       63.62233, 66.20711, 66.22114, 70.0722 , 69.6563 , 66.25043,\n",
              "       68.0704 , 67.14808, 68.76609, 68.12075, 65.72987, 69.17439,\n",
              "       70.36351, 70.78557, 70.88083, 66.62148, 69.9829 , 66.92866,\n",
              "       71.45806, 69.66344, 69.30943, 66.59775, 64.20209, 68.23051,\n",
              "       70.09021, 70.9755 , 64.93134, 66.90106, 69.19803, 68.4149 ,\n",
              "       66.3163 , 72.13467, 65.74613, 69.96677, 65.11417, 67.43294,\n",
              "       66.39785, 67.18769, 67.68597, 67.77469, 63.62937, 66.447  ,\n",
              "       71.9233 , 67.92214, 68.01143, 67.76524, 69.19791, 67.00109,\n",
              "       67.09659, 69.85144, 67.42782, 68.1104 , 68.29433, 69.45176,\n",
              "       69.08219, 70.91753, 64.20566, 71.10315, 72.08523, 66.15119,\n",
              "       67.52898, 67.17586, 72.92955, 65.54112, 69.08487, 65.28991,\n",
              "       68.53447, 71.32802, 66.88095, 67.91196, 67.00238, 68.27584,\n",
              "       66.20276, 64.24214, 67.43738, 64.50081, 68.89607, 70.32908,\n",
              "       64.31742, 67.11253, 68.01206, 68.25267, 67.76873, 67.44291,\n",
              "       65.73581, 69.64372, 71.92818, 69.39435, 67.14717, 69.1469 ,\n",
              "       66.90594, 67.838  , 68.09614, 66.14093, 71.16386, 67.55757,\n",
              "       70.01279, 72.56431, 66.60224, 68.51802, 66.34638, 69.02692,\n",
              "       69.12446, 68.24578, 68.4869 , 70.68261, 70.35969, 67.62401,\n",
              "       69.4463 , 67.92486, 68.39347, 66.31812, 71.22882, 65.29169,\n",
              "       66.00287, 67.61775, 69.10276, 68.99743, 69.07531, 68.34086,\n",
              "       71.68196, 68.77664, 66.18191, 72.37092, 66.85155, 65.75688,\n",
              "       69.69245, 66.27915, 66.47752, 68.71912, 68.29244, 67.66696,\n",
              "       71.29885, 67.07369, 70.68048, 71.40114, 71.00392, 66.2799 ,\n",
              "       68.05383, 64.16346, 66.87966, 70.52968, 65.45595, 69.11331,\n",
              "       67.94221, 67.2132 , 67.6372 , 70.09365, 64.41354, 69.77698,\n",
              "       66.58181, 68.14995, 66.18165, 66.79412, 67.1657 , 68.01904,\n",
              "       66.95837, 68.70397, 69.68057, 66.52793, 66.46981, 71.44643,\n",
              "       66.62648, 64.01015, 65.03312, 66.77216, 68.91932, 71.22926,\n",
              "       71.10332, 69.80699, 67.09127, 67.27958, 71.86593, 67.20197,\n",
              "       68.44108, 67.20278, 69.36588, 69.0416 , 65.9056 , 66.44766,\n",
              "       66.08009, 69.35367, 70.83359, 67.664  , 65.30966, 66.66817,\n",
              "       66.93271, 67.73938, 64.27722, 66.83442, 65.89728, 67.6564 ,\n",
              "       68.68966, 66.08003, 66.91344, 69.48392, 68.60001, 69.21225,\n",
              "       67.63342, 65.73405, 66.09947, 67.65293, 67.59619, 69.57859,\n",
              "       66.08879, 70.08026, 65.00956, 69.16464, 69.61276, 71.48367,\n",
              "       69.47413, 69.0027 , 69.5581 , 68.63746, 67.20262, 66.07614,\n",
              "       66.18342, 70.80778, 67.158  , 65.2973 , 69.23494, 68.90768,\n",
              "       72.3478 , 68.29557, 68.34735, 67.46476, 68.86803, 66.62471,\n",
              "       64.77193, 67.70647, 72.992  , 70.95194, 67.95677, 67.20959,\n",
              "       66.36959, 67.63896, 69.74444, 68.17532, 66.89711, 67.4966 ,\n",
              "       66.51569, 66.88332, 69.7277 , 69.78345, 65.40046, 67.99831,\n",
              "       72.25581, 70.79562, 65.18786, 67.7123 ])"
            ]
          },
          "metadata": {},
          "execution_count": 46
        }
      ]
    },
    {
      "cell_type": "code",
      "source": [],
      "metadata": {
        "id": "jUAfe-VwbROf"
      },
      "execution_count": null,
      "outputs": []
    },
    {
      "cell_type": "code",
      "source": [
        "height[:1000].hist(column=\"Height(Inches)\",\n",
        "                   bins=range(60,80))\n",
        "\n"
      ],
      "metadata": {
        "colab": {
          "base_uri": "https://localhost:8080/",
          "height": 469
        },
        "id": "9YbLJr96D9R4",
        "outputId": "1c5ef46f-70cf-483b-8416-c1c9965de497"
      },
      "execution_count": null,
      "outputs": [
        {
          "output_type": "execute_result",
          "data": {
            "text/plain": [
              "array([[<Axes: title={'center': 'Height(Inches)'}>]], dtype=object)"
            ]
          },
          "metadata": {},
          "execution_count": 39
        },
        {
          "output_type": "display_data",
          "data": {
            "text/plain": [
              "<Figure size 640x480 with 1 Axes>"
            ],
            "image/png": "[encoded data removed]"
          },
          "metadata": {}
        }
      ]
    },
    {
      "cell_type": "code",
      "source": [
        "import scipy as sp"
      ],
      "metadata": {
        "id": "dcu6UpEWE10u"
      },
      "execution_count": null,
      "outputs": []
    },
    {
      "cell_type": "code",
      "source": [
        "sp.stats.norm.pdf(np.arange(60, 80), loc=height.mean(), scale=height.std())"
      ],
      "metadata": {
        "colab": {
          "base_uri": "https://localhost:8080/"
        },
        "id": "IqoVR0UpFWJD",
        "outputId": "10dcd697-5361-4a19-d2b4-cf2c7887fda8"
      },
      "execution_count": null,
      "outputs": [
        {
          "output_type": "execute_result",
          "data": {
            "text/plain": [
              "array([3.65367307e-05, 2.73613174e-04, 1.56921554e-03, 6.89233652e-03,\n",
              "       2.31840136e-02, 5.97240223e-02, 1.17827795e-01, 1.78026531e-01,\n",
              "       2.05996568e-01, 1.82546503e-01, 1.23886883e-01, 6.43895529e-02,\n",
              "       2.56297146e-02, 7.81286658e-03, 1.82396005e-03, 3.26105791e-04,\n",
              "       4.46519036e-05, 4.68230524e-06, 3.76025884e-07, 2.31267197e-08])"
            ]
          },
          "metadata": {},
          "execution_count": 31
        }
      ]
    },
    {
      "cell_type": "code",
      "source": [
        "import pylab as plt\n",
        "plt.figure()\n",
        "height[:1000].hist(bins=range(60,80), density=True)\n",
        "plt.plot(np.arange(60, 80, 0.1),\n",
        "         sp.stats.norm.pdf(np.arange(60, 80, 0.1), loc=height.mean(), scale=height.std()))"
      ],
      "metadata": {
        "colab": {
          "base_uri": "https://localhost:8080/",
          "height": 487
        },
        "id": "z6QoDUSSFZDS",
        "outputId": "79575667-5d95-48ba-e900-b3b4846f9183"
      },
      "execution_count": null,
      "outputs": [
        {
          "output_type": "execute_result",
          "data": {
            "text/plain": [
              "[<matplotlib.lines.Line2D at 0x7d444002cd30>]"
            ]
          },
          "metadata": {},
          "execution_count": 43
        },
        {
          "output_type": "display_data",
          "data": {
            "text/plain": [
              "<Figure size 640x480 with 0 Axes>"
            ]
          },
          "metadata": {}
        },
        {
          "output_type": "display_data",
          "data": {
            "text/plain": [
              "<Figure size 640x480 with 1 Axes>"
            ],
            "image/png": "[encoded data removed]"
          },
          "metadata": {}
        }
      ]
    },
    {
      "cell_type": "code",
      "source": [
        "\n",
        "\n",
        "\n",
        "\n",
        "\n"
      ],
      "metadata": {
        "id": "5VNx_JKxF-Sp"
      },
      "execution_count": null,
      "outputs": []
    },
    {
      "cell_type": "code",
      "source": [
        "height[:3]"
      ],
      "metadata": {
        "colab": {
          "base_uri": "https://localhost:8080/",
          "height": 143
        },
        "id": "B0uulpwJbW_T",
        "outputId": "4d998953-70d2-43d2-e24c-23319d819c65"
      },
      "execution_count": null,
      "outputs": [
        {
          "output_type": "execute_result",
          "data": {
            "text/plain": [
              "   Height(Inches)\n",
              "0        65.78331\n",
              "1        71.51521\n",
              "2        69.39874"
            ],
            "text/html": [
              "\n",
              "  <div id=\"df-200828ff-6aa5-430e-a3dd-0a51ba28a435\" class=\"colab-df-container\">\n",
              "    <div>\n",
              "<style scoped>\n",
              "    .dataframe tbody tr th:only-of-type {\n",
              "        vertical-align: middle;\n",
              "    }\n",
              "\n",
              "    .dataframe tbody tr th {\n",
              "        vertical-align: top;\n",
              "    }\n",
              "\n",
              "    .dataframe thead th {\n",
              "        text-align: right;\n",
              "    }\n",
              "</style>\n",
              "<table border=\"1\" class=\"dataframe\">\n",
              "  <thead>\n",
              "    <tr style=\"text-align: right;\">\n",
              "      <th></th>\n",
              "      <th>Height(Inches)</th>\n",
              "    </tr>\n",
              "  </thead>\n",
              "  <tbody>\n",
              "    <tr>\n",
              "      <th>0</th>\n",
              "      <td>65.78331</td>\n",
              "    </tr>\n",
              "    <tr>\n",
              "      <th>1</th>\n",
              "      <td>71.51521</td>\n",
              "    </tr>\n",
              "    <tr>\n",
              "      <th>2</th>\n",
              "      <td>69.39874</td>\n",
              "    </tr>\n",
              "  </tbody>\n",
              "</table>\n",
              "</div>\n",
              "    <div class=\"colab-df-buttons\">\n",
              "\n",
              "  <div class=\"colab-df-container\">\n",
              "    <button class=\"colab-df-convert\" onclick=\"convertToInteractive('df-200828ff-6aa5-430e-a3dd-0a51ba28a435')\"\n",
              "            title=\"Convert this dataframe to an interactive table.\"\n",
              "            style=\"display:none;\">\n",
              "\n",
              "  <svg xmlns=\"http://www.w3.org/2000/svg\" height=\"24px\" viewBox=\"0 -960 960 960\">\n",
              "    <path d=\"M120-120v-720h720v720H120Zm60-500h600v-160H180v160Zm220 220h160v-160H400v160Zm0 220h160v-160H400v160ZM180-400h160v-160H180v160Zm440 0h160v-160H620v160ZM180-180h160v-160H180v160Zm440 0h160v-160H620v160Z\"/>\n",
              "  </svg>\n",
              "    </button>\n",
              "\n",
              "  <style>\n",
              "    .colab-df-container {\n",
              "      display:flex;\n",
              "      gap: 12px;\n",
              "    }\n",
              "\n",
              "    .colab-df-convert {\n",
              "      background-color: #E8F0FE;\n",
              "      border: none;\n",
              "      border-radius: 50%;\n",
              "      cursor: pointer;\n",
              "      display: none;\n",
              "      fill: #1967D2;\n",
              "      height: 32px;\n",
              "      padding: 0 0 0 0;\n",
              "      width: 32px;\n",
              "    }\n",
              "\n",
              "    .colab-df-convert:hover {\n",
              "      background-color: #E2EBFA;\n",
              "      box-shadow: 0px 1px 2px rgba(60, 64, 67, 0.3), 0px 1px 3px 1px rgba(60, 64, 67, 0.15);\n",
              "      fill: #174EA6;\n",
              "    }\n",
              "\n",
              "    .colab-df-buttons div {\n",
              "      margin-bottom: 4px;\n",
              "    }\n",
              "\n",
              "    [theme=dark] .colab-df-convert {\n",
              "      background-color: #3B4455;\n",
              "      fill: #D2E3FC;\n",
              "    }\n",
              "\n",
              "    [theme=dark] .colab-df-convert:hover {\n",
              "      background-color: #434B5C;\n",
              "      box-shadow: 0px 1px 3px 1px rgba(0, 0, 0, 0.15);\n",
              "      filter: drop-shadow(0px 1px 2px rgba(0, 0, 0, 0.3));\n",
              "      fill: #FFFFFF;\n",
              "    }\n",
              "  </style>\n",
              "\n",
              "    <script>\n",
              "      const buttonEl =\n",
              "        document.querySelector('#df-200828ff-6aa5-430e-a3dd-0a51ba28a435 button.colab-df-convert');\n",
              "      buttonEl.style.display =\n",
              "        google.colab.kernel.accessAllowed ? 'block' : 'none';\n",
              "\n",
              "      async function convertToInteractive(key) {\n",
              "        const element = document.querySelector('#df-200828ff-6aa5-430e-a3dd-0a51ba28a435');\n",
              "        const dataTable =\n",
              "          await google.colab.kernel.invokeFunction('convertToInteractive',\n",
              "                                                    [key], {});\n",
              "        if (!dataTable) return;\n",
              "\n",
              "        const docLinkHtml = 'Like what you see? Visit the ' +\n",
              "          '<a target=\"_blank\" href=https://colab.research.google.com/notebooks/data_table.ipynb>data table notebook</a>'\n",
              "          + ' to learn more about interactive tables.';\n",
              "        element.innerHTML = '';\n",
              "        dataTable['output_type'] = 'display_data';\n",
              "        await google.colab.output.renderOutput(dataTable, element);\n",
              "        const docLink = document.createElement('div');\n",
              "        docLink.innerHTML = docLinkHtml;\n",
              "        element.appendChild(docLink);\n",
              "      }\n",
              "    </script>\n",
              "  </div>\n",
              "\n",
              "\n",
              "<div id=\"df-12eeb5f9-d706-4912-bb14-e88426e18e61\">\n",
              "  <button class=\"colab-df-quickchart\" onclick=\"quickchart('df-12eeb5f9-d706-4912-bb14-e88426e18e61')\"\n",
              "            title=\"Suggest charts.\"\n",
              "            style=\"display:none;\">\n",
              "\n",
              "<svg xmlns=\"http://www.w3.org/2000/svg\" height=\"24px\"viewBox=\"0 0 24 24\"\n",
              "     width=\"24px\">\n",
              "    <g>\n",
              "        <path d=\"M19 3H5c-1.1 0-2 .9-2 2v14c0 1.1.9 2 2 2h14c1.1 0 2-.9 2-2V5c0-1.1-.9-2-2-2zM9 17H7v-7h2v7zm4 0h-2V7h2v10zm4 0h-2v-4h2v4z\"/>\n",
              "    </g>\n",
              "</svg>\n",
              "  </button>\n",
              "\n",
              "<style>\n",
              "  .colab-df-quickchart {\n",
              "      --bg-color: #E8F0FE;\n",
              "      --fill-color: #1967D2;\n",
              "      --hover-bg-color: #E2EBFA;\n",
              "      --hover-fill-color: #174EA6;\n",
              "      --disabled-fill-color: #AAA;\n",
              "      --disabled-bg-color: #DDD;\n",
              "  }\n",
              "\n",
              "  [theme=dark] .colab-df-quickchart {\n",
              "      --bg-color: #3B4455;\n",
              "      --fill-color: #D2E3FC;\n",
              "      --hover-bg-color: #434B5C;\n",
              "      --hover-fill-color: #FFFFFF;\n",
              "      --disabled-bg-color: #3B4455;\n",
              "      --disabled-fill-color: #666;\n",
              "  }\n",
              "\n",
              "  .colab-df-quickchart {\n",
              "    background-color: var(--bg-color);\n",
              "    border: none;\n",
              "    border-radius: 50%;\n",
              "    cursor: pointer;\n",
              "    display: none;\n",
              "    fill: var(--fill-color);\n",
              "    height: 32px;\n",
              "    padding: 0;\n",
              "    width: 32px;\n",
              "  }\n",
              "\n",
              "  .colab-df-quickchart:hover {\n",
              "    background-color: var(--hover-bg-color);\n",
              "    box-shadow: 0 1px 2px rgba(60, 64, 67, 0.3), 0 1px 3px 1px rgba(60, 64, 67, 0.15);\n",
              "    fill: var(--button-hover-fill-color);\n",
              "  }\n",
              "\n",
              "  .colab-df-quickchart-complete:disabled,\n",
              "  .colab-df-quickchart-complete:disabled:hover {\n",
              "    background-color: var(--disabled-bg-color);\n",
              "    fill: var(--disabled-fill-color);\n",
              "    box-shadow: none;\n",
              "  }\n",
              "\n",
              "  .colab-df-spinner {\n",
              "    border: 2px solid var(--fill-color);\n",
              "    border-color: transparent;\n",
              "    border-bottom-color: var(--fill-color);\n",
              "    animation:\n",
              "      spin 1s steps(1) infinite;\n",
              "  }\n",
              "\n",
              "  @keyframes spin {\n",
              "    0% {\n",
              "      border-color: transparent;\n",
              "      border-bottom-color: var(--fill-color);\n",
              "      border-left-color: var(--fill-color);\n",
              "    }\n",
              "    20% {\n",
              "      border-color: transparent;\n",
              "      border-left-color: var(--fill-color);\n",
              "      border-top-color: var(--fill-color);\n",
              "    }\n",
              "    30% {\n",
              "      border-color: transparent;\n",
              "      border-left-color: var(--fill-color);\n",
              "      border-top-color: var(--fill-color);\n",
              "      border-right-color: var(--fill-color);\n",
              "    }\n",
              "    40% {\n",
              "      border-color: transparent;\n",
              "      border-right-color: var(--fill-color);\n",
              "      border-top-color: var(--fill-color);\n",
              "    }\n",
              "    60% {\n",
              "      border-color: transparent;\n",
              "      border-right-color: var(--fill-color);\n",
              "    }\n",
              "    80% {\n",
              "      border-color: transparent;\n",
              "      border-right-color: var(--fill-color);\n",
              "      border-bottom-color: var(--fill-color);\n",
              "    }\n",
              "    90% {\n",
              "      border-color: transparent;\n",
              "      border-bottom-color: var(--fill-color);\n",
              "    }\n",
              "  }\n",
              "</style>\n",
              "\n",
              "  <script>\n",
              "    async function quickchart(key) {\n",
              "      const quickchartButtonEl =\n",
              "        document.querySelector('#' + key + ' button');\n",
              "      quickchartButtonEl.disabled = true;  // To prevent multiple clicks.\n",
              "      quickchartButtonEl.classList.add('colab-df-spinner');\n",
              "      try {\n",
              "        const charts = await google.colab.kernel.invokeFunction(\n",
              "            'suggestCharts', [key], {});\n",
              "      } catch (error) {\n",
              "        console.error('Error during call to suggestCharts:', error);\n",
              "      }\n",
              "      quickchartButtonEl.classList.remove('colab-df-spinner');\n",
              "      quickchartButtonEl.classList.add('colab-df-quickchart-complete');\n",
              "    }\n",
              "    (() => {\n",
              "      let quickchartButtonEl =\n",
              "        document.querySelector('#df-12eeb5f9-d706-4912-bb14-e88426e18e61 button');\n",
              "      quickchartButtonEl.style.display =\n",
              "        google.colab.kernel.accessAllowed ? 'block' : 'none';\n",
              "    })();\n",
              "  </script>\n",
              "</div>\n",
              "    </div>\n",
              "  </div>\n"
            ]
          },
          "metadata": {},
          "execution_count": 49
        }
      ]
    },
    {
      "cell_type": "code",
      "source": [
        "height[:1000].hist(bins=range(60, 80, 1), density=True);\n",
        "plt.xlabel(\"heigh (inches)\")\n",
        "plt.ylabel(\"probability\");"
      ],
      "metadata": {
        "colab": {
          "base_uri": "https://localhost:8080/",
          "height": 472
        },
        "id": "G5m5JdwTbZRt",
        "outputId": "fa8ce545-15d9-4446-ecbd-61313f06a93c"
      },
      "execution_count": null,
      "outputs": [
        {
          "output_type": "display_data",
          "data": {
            "text/plain": [
              "<Figure size 640x480 with 1 Axes>"
            ],
            "image/png": "[encoded data removed]"
          },
          "metadata": {}
        }
      ]
    },
    {
      "cell_type": "code",
      "source": [
        "height[:1000].hist(bins=range(60, 80, 1));\n",
        "plt.xlabel(\"heigh (inches)\")\n",
        "plt.ylabel(\"counts\");"
      ],
      "metadata": {
        "colab": {
          "base_uri": "https://localhost:8080/",
          "height": 472
        },
        "id": "-tLe8HgobkkW",
        "outputId": "8742c923-b9f7-42cb-895e-c9fb5d59b59d"
      },
      "execution_count": null,
      "outputs": [
        {
          "output_type": "display_data",
          "data": {
            "text/plain": [
              "<Figure size 640x480 with 1 Axes>"
            ],
            "image/png": "[encoded data removed]"
          },
          "metadata": {}
        }
      ]
    },
    {
      "cell_type": "code",
      "source": [],
      "metadata": {
        "id": "xagNPAOacpuv"
      },
      "execution_count": null,
      "outputs": []
    }
  ]
}